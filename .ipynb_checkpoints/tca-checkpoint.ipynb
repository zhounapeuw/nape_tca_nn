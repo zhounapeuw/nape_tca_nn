{
 "cells": [
  {
   "cell_type": "code",
   "execution_count": null,
   "metadata": {},
   "outputs": [],
   "source": [
    "# load dependencies\n",
    "import h5py\n",
    "import tensortools as tt # toolbox for TCA\n",
    "import os\n",
    "import numpy as np\n",
    "import importlib as imp\n",
    "import matplotlib.pyplot as plt\n",
    "\n",
    "# 3d state space plot\n",
    "from matplotlib.colors import ListedColormap, BoundaryNorm    \n",
    "from mpl_toolkits.mplot3d import Axes3D\n",
    "from mpl_toolkits.mplot3d.art3d import Line3DCollection\n",
    "\n",
    "import utils\n",
    "import load_preprocess_data"
   ]
  },
  {
   "cell_type": "code",
   "execution_count": null,
   "metadata": {},
   "outputs": [],
   "source": [
    "# indicate a file to analyze\n",
    "fname = 'VJ_OFCVTA_7_260_D6'\n",
    "fdir = 'C:\\\\2pData\\\\Vijay data\\\\VJ_OFCVTA_7_D8_trained\\\\'\n",
    "sima_h5_path = os.path.join(fdir, fname + '_sima_mc.h5')\n",
    "\n",
    "# set the sampling rate\n",
    "fs = 5"
   ]
  },
  {
   "cell_type": "code",
   "execution_count": null,
   "metadata": {},
   "outputs": [],
   "source": [
    "# trial windowing \n",
    "trial_start_end_seconds = np.array([-1, 3]) # trial windowing in seconds relative to ttl-onset/trial-onset\n",
    "conditions = ['minus', 'plus_rewarded']\n",
    "\n",
    "# if helper scripts have been updated, can refresh them with this line\n",
    "imp.reload(utils)\n",
    "imp.reload(load_preprocess_data);"
   ]
  },
  {
   "cell_type": "code",
   "execution_count": null,
   "metadata": {},
   "outputs": [],
   "source": [
    "## extract trial data into xarray\n",
    "\n",
    "num_avg_groups = 5.0 \n",
    "\"\"\" number of segments to split trials over. Ie. Because single trial plots in state space is noisy, \n",
    "    let's break the trials up into groups and average to get less noisier signal.\n",
    "\"\"\" \n",
    "\n",
    "data_dict = load_preprocess_data.load(fname, fdir, fs, trial_start_end_seconds, conditions, num_avg_groups)"
   ]
  },
  {
   "cell_type": "code",
   "execution_count": null,
   "metadata": {},
   "outputs": [],
   "source": [
    "# Make synthetic dataset.\n",
    "condition = 'plus_rewarded'\n",
    "R = 20 # dimensions/rank\n",
    "# R is number of components\n",
    "\n",
    "X = data_dict['all_cond']['flattenpix'].data\n",
    "#dims are (trial, yx_pix, time)"
   ]
  },
  {
   "cell_type": "code",
   "execution_count": null,
   "metadata": {},
   "outputs": [],
   "source": [
    "# Fit tensor decomposition \n",
    "\n",
    "tca_out = tt.ncp_hals(X, rank=R, verbose=False) # CP decomposition by classic alternating least squares (ALS).\n",
    "# The `rank` sets the number of components to be computed.\n",
    "# output are factor matrices of the fitted results\n",
    "# objective function is the frobenius norm\n"
   ]
  },
  {
   "cell_type": "code",
   "execution_count": null,
   "metadata": {},
   "outputs": [],
   "source": [
    "def predict(factors):\n",
    "\n",
    "    max_rank = factors[0].shape[-1]\n",
    "    prediction = np.zeros([ff.shape[0] for ff in factors])\n",
    "    \n",
    "    for rank in range(max_rank):\n",
    "        for idx, dim in enumerate(factors):\n",
    "            if idx == 0:\n",
    "                outer_prod = dim[:, rank][None]\n",
    "            elif idx == 1:\n",
    "                outer_prod = outer_prod.T @ dim[:, rank][None]\n",
    "            else:\n",
    "                outer_prod = outer_prod[..., None] @ dim[:, rank][None]\n",
    "        prediction += outer_prod\n",
    "        \n",
    "    return prediction\n"
   ]
  },
  {
   "cell_type": "code",
   "execution_count": null,
   "metadata": {},
   "outputs": [],
   "source": [
    "def obj_frob_norm(X, pred):\n",
    "    \n",
    "    normX = np.linalg.norm(X)\n",
    "    \n",
    "    return np.linalg.norm(X - pred) / normX\n",
    "\n",
    "# tca_out.factors.factors : contains the outer product vectors\n",
    "# predict(tca_out.factors.factors) is equivalent to tca_out.factors.full()\n",
    "obj_frob_norm(X, predict(tca_out.factors.factors))"
   ]
  },
  {
   "cell_type": "code",
   "execution_count": null,
   "metadata": {},
   "outputs": [],
   "source": [
    "print(tca_out.factors[0].shape) # trial factor\n",
    "print(tca_out.factors[1].shape) # pixel factor\n",
    "print(tca_out.factors[2].shape) # time factor\n",
    "\n"
   ]
  },
  {
   "cell_type": "code",
   "execution_count": null,
   "metadata": {},
   "outputs": [],
   "source": [
    "fig, _, _ = tt.plot_factors(tca_out.factors)\n",
    "tt.plot_factors(tca_out.factors, fig=fig);"
   ]
  },
  {
   "cell_type": "code",
   "execution_count": null,
   "metadata": {},
   "outputs": [],
   "source": [
    "# function to make a figure with subplots of heatmaps\n",
    "def plot_img_vectorized_component(n_columns, data, original_dims):\n",
    "    \n",
    "    clims = [np.min(data), np.max(data)]\n",
    "    \n",
    "    num_comps = data.shape[0]\n",
    "    n_rows = int(np.ceil(num_comps/n_columns))\n",
    "   \n",
    "    fig, ax = plt.subplots(nrows=n_rows, ncols=n_columns, figsize = (15, n_rows*4))\n",
    "    for iComp in range(num_comps):\n",
    "        \n",
    "        if n_rows == 1:\n",
    "            subplot_index = iComp\n",
    "        else:\n",
    "            subplot_index = np.unravel_index(iComp, (n_rows, n_columns)) # turn int index to a tuple of array coordinates\n",
    "        \n",
    "        title = f\"Comp #{iComp}\"\n",
    "        pc_pixel_weights = data[iComp,:].reshape(original_dims)\n",
    "\n",
    "        im = utils.subplot_heatmap(ax[subplot_index], title, pc_pixel_weights, cmap = 'Reds', clims = clims)\n",
    "     \n",
    "    fig.colorbar(im, ax = ax, shrink = 0.5)"
   ]
  },
  {
   "cell_type": "code",
   "execution_count": null,
   "metadata": {},
   "outputs": [],
   "source": [
    "pixel_factor = 1\n",
    "time_factor = 2\n",
    "\n",
    "n_columns = 3\n",
    "\n",
    "original_dims = data_dict[condition]['data'].shape[1:3] # data dim in format of trial,y,x,sample\n",
    "\n",
    "plot_img_vectorized_component(n_columns, np.transpose(tca_out.factors[pixel_factor]), original_dims)"
   ]
  },
  {
   "cell_type": "code",
   "execution_count": null,
   "metadata": {},
   "outputs": [],
   "source": [
    "component = 0\n",
    "\n",
    "tseries = tca_out.factors[time_factor][:,component]\n",
    "plt.figure()\n",
    "plt.plot(data_dict['trial_tvec'], tseries)"
   ]
  },
  {
   "cell_type": "code",
   "execution_count": null,
   "metadata": {},
   "outputs": [],
   "source": [
    "def make_line_collection(x, y, z, color_encode, cmap, trial = False, alpha = 1.0):\n",
    "\n",
    "    # Create a set of line segments\n",
    "    points = np.array([x, y, z]).T.reshape(-1, 1, 3)\n",
    "    segments = np.concatenate([points[:-1], points[1:]], axis=1)\n",
    "\n",
    "    # Create the 3D-line collection object\n",
    "    lc = Line3DCollection(segments, cmap=plt.get_cmap(cmap),\n",
    "                        norm=plt.Normalize(np.min(color_encode), np.max(color_encode))) # set LUT for segment colors\n",
    "    lc.set_array(color_encode) # set the dimension and values for color encoding\n",
    "    \n",
    "    \n",
    "    # all trial averaged lines will have markers\n",
    "    if trial == False:\n",
    "        lc.set_linestyle(':')\n",
    "        lc.set_linewidth(4)\n",
    "        \n",
    "    # trial group lines should encode segment number in alpha\n",
    "    if trial == True:\n",
    "        lc.set_alpha(alpha)\n",
    "        lc.set_linewidth(1.5)\n",
    "        \n",
    "    return lc"
   ]
  },
  {
   "cell_type": "code",
   "execution_count": null,
   "metadata": {},
   "outputs": [],
   "source": [
    "\n",
    "# container to store data relevant to the 3d plot\n",
    "s_space_dict = {}\n",
    "s_space_dict['line_cmaps'] = ['autumn','winter']\n",
    "\n",
    "# determine alpha for each trial (encoding time block)\n",
    "trial_group_alphas = np.linspace(0.3, 1, num_avg_groups)\n",
    "\n",
    "# loop through conditions\n",
    "for idx_condition, condition in enumerate([condition]):\n",
    "\n",
    "    # set up variables for this condition\n",
    "    s_space_dict[condition] = {} # sub-dict for condition-specific data \n",
    "    n = data_dict[condition]['num_samples'] # number of data points\n",
    "    cmap_lc = s_space_dict['line_cmaps'][idx_condition] # grab this condition's line cmap\n",
    "    \n",
    "    #set x,y,z, time data\n",
    "    x = tca_out.factors[time_factor][:,0]\n",
    "    y = tca_out.factors[time_factor][:,1]\n",
    "    z = tca_out.factors[time_factor][:,2]\n",
    "    svec = np.arange(0,n) # sample vector; important for encoding color as time\n",
    "    # USER DEFINE: which dimension to encode color; can be x, y, z, svec\n",
    "    color_encode = svec \n",
    "    \n",
    "    # update x,y,z limits based on this condition's data\n",
    "    if idx_condition == 0:\n",
    "        xlim = [np.min(x), np.max(x)]; ylim = [np.min(y), np.max(y)]; zlim = [np.min(z), np.max(z)]\n",
    "    else:\n",
    "        xlim = update_lims([np.min(x), np.max(x)], xlim); \n",
    "        ylim = update_lims([np.min(y), np.max(y)], ylim); \n",
    "        zlim = update_lims([np.min(z), np.max(z)], zlim);\n",
    "    \n",
    "    ### Create line segment objects for ALL TRIAL-AVGED DATA ###\n",
    "    s_space_dict[condition]['line_collect'] = make_line_collection(x, y, z, color_encode, cmap_lc)\n",
    "    \n",
    "    ### Create line segment objects for TRIAL-BLOCKED/GROUPED DATA ###\n",
    "#     s_space_dict[condition]['line_collect_trial'] = {}\n",
    "#     for idx, trial in enumerate(data_dict[condition]['Xt_trial']):\n",
    "        \n",
    "#         # make the line segment object for this trial group\n",
    "#         s_space_dict[condition]['line_collect_trial'][idx] = make_line_collection(trial[:,0], trial[:,1], trial[:,2], \n",
    "#                                                                                   color_encode, \n",
    "#                                                                                   cmap_lc, \n",
    "#                                                                                   trial = True, \n",
    "#                                                                                   alpha = trial_group_alphas[idx])\n",
    "\n",
    "#         # update x,y,z limits based on this \"trial's\" data\n",
    "#         xlim = update_lims([np.min(trial[:,0]), np.max(trial[:,0])], xlim); \n",
    "#         ylim = update_lims([np.min(trial[:,1]), np.max(trial[:,1])], ylim);\n",
    "#         zlim = update_lims([np.min(trial[:,2]), np.max(trial[:,2])], zlim);\n",
    "        \n",
    "# create plot and set attributes\n",
    "fig = plt.figure(figsize = (9,7))\n",
    "ax = fig.gca(projection='3d')\n",
    "ax.set_xlim(xlim); ax.set_ylim(ylim); ax.set_zlim(zlim)\n",
    "plt.title('TCA State Space')\n",
    "ax.set_xlabel('TC0', fontsize = 20); ax.set_ylabel('TC1', fontsize = 20); ax.set_zlabel('TC2', fontsize = 20);\n",
    "\n",
    "# plot the line segments\n",
    "for condition in [condition]:\n",
    "    \n",
    "    # for all trial-avged data\n",
    "    ax.add_collection3d(s_space_dict[condition]['line_collect'], zs=z, zdir='z')\n",
    "\n",
    "#     # for trial group data\n",
    "#     for trial_lc in s_space_dict[condition]['line_collect_trial'].values():\n",
    "        \n",
    "#         ax.add_collection3d(trial_lc, zs=z, zdir='z')\n",
    "        \n",
    "ax.legend(['All Trial Avg','Trial 1-10 Avg','Trial 11-20 Avg',\n",
    "           'Trial 21-30 Avg','Trial 31-40 Avg','Trial 41-50 Avg']);"
   ]
  },
  {
   "cell_type": "code",
   "execution_count": null,
   "metadata": {},
   "outputs": [],
   "source": []
  }
 ],
 "metadata": {
  "kernelspec": {
   "display_name": "Python 3",
   "language": "python",
   "name": "python3"
  },
  "language_info": {
   "codemirror_mode": {
    "name": "ipython",
    "version": 3
   },
   "file_extension": ".py",
   "mimetype": "text/x-python",
   "name": "python",
   "nbconvert_exporter": "python",
   "pygments_lexer": "ipython3",
   "version": "3.6.10"
  },
  "varInspector": {
   "cols": {
    "lenName": 16,
    "lenType": 16,
    "lenVar": 40
   },
   "kernels_config": {
    "python": {
     "delete_cmd_postfix": "",
     "delete_cmd_prefix": "del ",
     "library": "var_list.py",
     "varRefreshCmd": "print(var_dic_list())"
    },
    "r": {
     "delete_cmd_postfix": ") ",
     "delete_cmd_prefix": "rm(",
     "library": "var_list.r",
     "varRefreshCmd": "cat(var_dic_list()) "
    }
   },
   "types_to_exclude": [
    "module",
    "function",
    "builtin_function_or_method",
    "instance",
    "_Feature"
   ],
   "window_display": false
  }
 },
 "nbformat": 4,
 "nbformat_minor": 4
}
