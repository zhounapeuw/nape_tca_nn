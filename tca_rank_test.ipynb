{
 "cells": [
  {
   "cell_type": "code",
   "execution_count": 1,
   "metadata": {},
   "outputs": [],
   "source": [
    "# load dependencies\n",
    "import h5py\n",
    "import tensortools as tt # toolbox for TCA\n",
    "import os\n",
    "import numpy as np\n",
    "import importlib as imp\n",
    "import matplotlib.pyplot as plt\n",
    "\n",
    "import utils\n",
    "import load_preprocess_data"
   ]
  },
  {
   "cell_type": "code",
   "execution_count": 2,
   "metadata": {},
   "outputs": [],
   "source": [
    "# indicate a file to analyze\n",
    "fname = 'VJ_OFCVTA_7_260_D6'\n",
    "fdir = 'C:\\\\2pData\\\\Vijay data\\\\VJ_OFCVTA_7_D8_trained\\\\'\n",
    "sima_h5_path = os.path.join(fdir, fname + '_sima_mc.h5')\n",
    "\n",
    "# set the sampling rate\n",
    "fs = 5"
   ]
  },
  {
   "cell_type": "code",
   "execution_count": 3,
   "metadata": {},
   "outputs": [],
   "source": [
    "# trial windowing \n",
    "trial_start_end_seconds = np.array([-1, 3]) # trial windowing in seconds relative to ttl-onset/trial-onset\n",
    "conditions = ['minus', 'plus_rewarded']\n",
    "\n",
    "# if helper scripts have been updated, can refresh them with this line\n",
    "imp.reload(utils)\n",
    "imp.reload(load_preprocess_data);"
   ]
  },
  {
   "cell_type": "code",
   "execution_count": 4,
   "metadata": {},
   "outputs": [],
   "source": [
    "## extract trial data into xarray\n",
    "\n",
    "num_avg_groups = 5.0 \n",
    "\"\"\" number of segments to split trials over. Ie. Because single trial plots in state space is noisy, \n",
    "    let's break the trials up into groups and average to get less noisier signal.\n",
    "\"\"\" \n",
    "\n",
    "data_dict = load_preprocess_data.load(fname, fdir, fs, trial_start_end_seconds, conditions, num_avg_groups)"
   ]
  },
  {
   "cell_type": "code",
   "execution_count": 20,
   "metadata": {},
   "outputs": [
    {
     "data": {
      "text/plain": [
       "array([[[24, 13, 54, ..., 18, 39, 27],\n",
       "        [43, 21, 17, ..., 53, 31, 25],\n",
       "        [36, 21, 29, ..., 36, 41, 29],\n",
       "        ...,\n",
       "        [44, 40, 29, ..., 52, 34, 36],\n",
       "        [12, 29, 24, ..., 76, 39, 50],\n",
       "        [ 5, 77, 34, ..., 80, 63, 19]],\n",
       "\n",
       "       [[36, 10, 38, ..., 17, 13,  8],\n",
       "        [26, 34, 59, ..., 28, 27, 23],\n",
       "        [16, 30, 35, ..., 19, 20, 25],\n",
       "        ...,\n",
       "        [35, 63, 14, ..., 53, 55, 19],\n",
       "        [52, 48, 12, ...,  0, 25, 65],\n",
       "        [41, 38,  9, ..., 16, 20, 32]],\n",
       "\n",
       "       [[58, 32, 31, ..., 30, 54, 37],\n",
       "        [52, 63, 30, ..., 34, 33, 26],\n",
       "        [11, 12, 21, ..., 31, 55, 17],\n",
       "        ...,\n",
       "        [41, 16, 45, ..., 54, 79, 32],\n",
       "        [13, 17, 51, ..., 33, 12, 34],\n",
       "        [27, 38, 43, ..., 36, 30, 42]],\n",
       "\n",
       "       ...,\n",
       "\n",
       "       [[42, 39, 15, ..., 28, 15, 26],\n",
       "        [31, 10, 43, ..., 48, 18, 16],\n",
       "        [18, 25, 36, ...,  5, 58, 50],\n",
       "        ...,\n",
       "        [10, 33, 39, ..., 35, 37, 27],\n",
       "        [38, 15, 50, ..., 15, 38, 12],\n",
       "        [26, 27, 24, ..., 30, 33, 28]],\n",
       "\n",
       "       [[35, 39, 24, ..., 20, 60, 25],\n",
       "        [40, 11, 36, ..., 10, 13, 19],\n",
       "        [36, 62, 16, ..., 17,  4, 21],\n",
       "        ...,\n",
       "        [28, 22, 26, ..., 41, 31, 70],\n",
       "        [42, 33, 45, ..., 22, 47, 14],\n",
       "        [10, 28, 32, ..., 40,  1, 14]],\n",
       "\n",
       "       [[37, 29, 25, ..., 53, 34,  9],\n",
       "        [64, 11, 44, ..., 14, 30, 45],\n",
       "        [23, 52, 18, ..., 20, 10, 28],\n",
       "        ...,\n",
       "        [13, 26, 13, ..., 18, 33, 17],\n",
       "        [63, 20, 49, ..., 41, 32,  4],\n",
       "        [17, 37, 35, ..., 16, 40, 11]]])"
      ]
     },
     "execution_count": 20,
     "metadata": {},
     "output_type": "execute_result"
    }
   ],
   "source": [
    "# Make data input\n",
    "\n",
    "condition = 'plus_rewarded'\n",
    "\n",
    "X = data_dict['all_cond']['flattenpix'] # data_dict[condition]['xarr_flatten_xy'].data\n",
    "#dims are (trial, yx_pix, time)\n",
    "X\n",
    "\n"
   ]
  },
  {
   "cell_type": "code",
   "execution_count": 19,
   "metadata": {
    "scrolled": false
   },
   "outputs": [
    {
     "name": "stderr",
     "output_type": "stream",
     "text": [
      "\r",
      "Fitting rank-1 models:   0%|                                                                                                    | 0/3 [00:00<?, ?it/s]"
     ]
    },
    {
     "name": "stdout",
     "output_type": "stream",
     "text": [
      "Wall time: 0 ns\n"
     ]
    },
    {
     "name": "stderr",
     "output_type": "stream",
     "text": [
      "                                                                                                                                                      "
     ]
    },
    {
     "name": "stdout",
     "output_type": "stream",
     "text": [
      "Rank-1 models:  min obj, 0.66;  max obj, 0.66;  time to fit, 101.0s\n"
     ]
    },
    {
     "name": "stderr",
     "output_type": "stream",
     "text": [
      "                                                                                                                                                      "
     ]
    },
    {
     "name": "stdout",
     "output_type": "stream",
     "text": [
      "Rank-2 models:  min obj, 0.66;  max obj, 0.66;  time to fit, 103.2s\n"
     ]
    },
    {
     "name": "stderr",
     "output_type": "stream",
     "text": [
      "                                                                                                                                                      "
     ]
    },
    {
     "name": "stdout",
     "output_type": "stream",
     "text": [
      "Rank-3 models:  min obj, 0.65;  max obj, 0.66;  time to fit, 106.5s\n"
     ]
    },
    {
     "name": "stderr",
     "output_type": "stream",
     "text": [
      "                                                                                                                                                      "
     ]
    },
    {
     "name": "stdout",
     "output_type": "stream",
     "text": [
      "Rank-4 models:  min obj, 0.65;  max obj, 0.66;  time to fit, 107.2s\n"
     ]
    },
    {
     "name": "stderr",
     "output_type": "stream",
     "text": [
      "                                                                                                                                                      "
     ]
    },
    {
     "name": "stdout",
     "output_type": "stream",
     "text": [
      "Rank-5 models:  min obj, 0.65;  max obj, 0.65;  time to fit, 94.1s\n"
     ]
    },
    {
     "name": "stderr",
     "output_type": "stream",
     "text": [
      "                                                                                                                                                      "
     ]
    },
    {
     "name": "stdout",
     "output_type": "stream",
     "text": [
      "Rank-6 models:  min obj, 0.65;  max obj, 0.66;  time to fit, 89.8s\n"
     ]
    },
    {
     "name": "stderr",
     "output_type": "stream",
     "text": [
      "                                                                                                                                                      "
     ]
    },
    {
     "name": "stdout",
     "output_type": "stream",
     "text": [
      "Rank-7 models:  min obj, 0.65;  max obj, 0.65;  time to fit, 113.1s\n"
     ]
    },
    {
     "name": "stderr",
     "output_type": "stream",
     "text": [
      "                                                                                                                                                      "
     ]
    },
    {
     "name": "stdout",
     "output_type": "stream",
     "text": [
      "Rank-8 models:  min obj, 0.65;  max obj, 0.65;  time to fit, 96.6s\n"
     ]
    },
    {
     "name": "stderr",
     "output_type": "stream",
     "text": [
      "                                                                                                                                                      "
     ]
    },
    {
     "name": "stdout",
     "output_type": "stream",
     "text": [
      "Rank-9 models:  min obj, 0.65;  max obj, 0.65;  time to fit, 90.4s\n"
     ]
    },
    {
     "name": "stderr",
     "output_type": "stream",
     "text": [
      "                                                                                                                                                      "
     ]
    },
    {
     "name": "stdout",
     "output_type": "stream",
     "text": [
      "Rank-10 models:  min obj, 0.65;  max obj, 0.65;  time to fit, 85.5s\n"
     ]
    },
    {
     "name": "stderr",
     "output_type": "stream",
     "text": [
      "                                                                                                                                                      "
     ]
    },
    {
     "name": "stdout",
     "output_type": "stream",
     "text": [
      "Rank-11 models:  min obj, 0.65;  max obj, 0.65;  time to fit, 101.5s\n"
     ]
    },
    {
     "name": "stderr",
     "output_type": "stream",
     "text": [
      "                                                                                                                                                      "
     ]
    },
    {
     "name": "stdout",
     "output_type": "stream",
     "text": [
      "Rank-12 models:  min obj, 0.65;  max obj, 0.65;  time to fit, 87.6s\n"
     ]
    },
    {
     "name": "stderr",
     "output_type": "stream",
     "text": [
      "                                                                                                                                                      "
     ]
    },
    {
     "name": "stdout",
     "output_type": "stream",
     "text": [
      "Rank-13 models:  min obj, 0.65;  max obj, 0.65;  time to fit, 89.3s\n"
     ]
    },
    {
     "name": "stderr",
     "output_type": "stream",
     "text": [
      "                                                                                                                                                      "
     ]
    },
    {
     "name": "stdout",
     "output_type": "stream",
     "text": [
      "Rank-14 models:  min obj, 0.65;  max obj, 0.65;  time to fit, 90.2s\n"
     ]
    },
    {
     "name": "stderr",
     "output_type": "stream",
     "text": [
      "                                                                                                                                                      "
     ]
    },
    {
     "name": "stdout",
     "output_type": "stream",
     "text": [
      "Rank-15 models:  min obj, 0.65;  max obj, 0.65;  time to fit, 90.5s\n"
     ]
    },
    {
     "name": "stderr",
     "output_type": "stream",
     "text": [
      "                                                                                                                                                      "
     ]
    },
    {
     "name": "stdout",
     "output_type": "stream",
     "text": [
      "Rank-16 models:  min obj, 0.65;  max obj, 0.65;  time to fit, 91.6s\n"
     ]
    },
    {
     "name": "stderr",
     "output_type": "stream",
     "text": [
      "                                                                                                                                                      "
     ]
    },
    {
     "name": "stdout",
     "output_type": "stream",
     "text": [
      "Rank-17 models:  min obj, 0.65;  max obj, 0.65;  time to fit, 95.2s\n"
     ]
    },
    {
     "name": "stderr",
     "output_type": "stream",
     "text": [
      "                                                                                                                                                      "
     ]
    },
    {
     "name": "stdout",
     "output_type": "stream",
     "text": [
      "Rank-18 models:  min obj, 0.64;  max obj, 0.65;  time to fit, 111.7s\n"
     ]
    },
    {
     "name": "stderr",
     "output_type": "stream",
     "text": [
      "                                                                                                                                                      "
     ]
    },
    {
     "name": "stdout",
     "output_type": "stream",
     "text": [
      "Rank-19 models:  min obj, 0.65;  max obj, 0.65;  time to fit, 98.1s\n"
     ]
    },
    {
     "name": "stderr",
     "output_type": "stream",
     "text": [
      "                                                                                                                                                      "
     ]
    },
    {
     "name": "stdout",
     "output_type": "stream",
     "text": [
      "Rank-1 models:  min obj, 0.66;  max obj, 0.66;  time to fit, 77.9s\n"
     ]
    },
    {
     "name": "stderr",
     "output_type": "stream",
     "text": [
      "                                                                                                                                                      "
     ]
    },
    {
     "name": "stdout",
     "output_type": "stream",
     "text": [
      "Rank-2 models:  min obj, 0.67;  max obj, 0.67;  time to fit, 77.9s\n"
     ]
    },
    {
     "name": "stderr",
     "output_type": "stream",
     "text": [
      "                                                                                                                                                      "
     ]
    },
    {
     "name": "stdout",
     "output_type": "stream",
     "text": [
      "Rank-3 models:  min obj, 0.67;  max obj, 0.67;  time to fit, 79.2s\n"
     ]
    },
    {
     "name": "stderr",
     "output_type": "stream",
     "text": [
      "                                                                                                                                                      "
     ]
    },
    {
     "name": "stdout",
     "output_type": "stream",
     "text": [
      "Rank-4 models:  min obj, 0.67;  max obj, 0.67;  time to fit, 79.1s\n"
     ]
    },
    {
     "name": "stderr",
     "output_type": "stream",
     "text": [
      "                                                                                                                                                      "
     ]
    },
    {
     "name": "stdout",
     "output_type": "stream",
     "text": [
      "Rank-5 models:  min obj, 0.67;  max obj, 0.67;  time to fit, 81.4s\n"
     ]
    },
    {
     "name": "stderr",
     "output_type": "stream",
     "text": [
      "                                                                                                                                                      "
     ]
    },
    {
     "name": "stdout",
     "output_type": "stream",
     "text": [
      "Rank-6 models:  min obj, 0.67;  max obj, 0.67;  time to fit, 81.0s\n"
     ]
    },
    {
     "name": "stderr",
     "output_type": "stream",
     "text": [
      "                                                                                                                                                      "
     ]
    },
    {
     "name": "stdout",
     "output_type": "stream",
     "text": [
      "Rank-7 models:  min obj, 0.67;  max obj, 0.67;  time to fit, 83.3s\n"
     ]
    },
    {
     "name": "stderr",
     "output_type": "stream",
     "text": [
      "                                                                                                                                                      "
     ]
    },
    {
     "name": "stdout",
     "output_type": "stream",
     "text": [
      "Rank-8 models:  min obj, 0.67;  max obj, 0.67;  time to fit, 83.7s\n"
     ]
    },
    {
     "name": "stderr",
     "output_type": "stream",
     "text": [
      "                                                                                                                                                      "
     ]
    },
    {
     "name": "stdout",
     "output_type": "stream",
     "text": [
      "Rank-9 models:  min obj, 0.67;  max obj, 0.67;  time to fit, 86.1s\n"
     ]
    },
    {
     "name": "stderr",
     "output_type": "stream",
     "text": [
      "                                                                                                                                                      "
     ]
    },
    {
     "name": "stdout",
     "output_type": "stream",
     "text": [
      "Rank-10 models:  min obj, 0.67;  max obj, 0.67;  time to fit, 85.1s\n"
     ]
    },
    {
     "name": "stderr",
     "output_type": "stream",
     "text": [
      "                                                                                                                                                      "
     ]
    },
    {
     "name": "stdout",
     "output_type": "stream",
     "text": [
      "Rank-11 models:  min obj, 0.67;  max obj, 0.67;  time to fit, 87.5s\n"
     ]
    },
    {
     "name": "stderr",
     "output_type": "stream",
     "text": [
      "                                                                                                                                                      "
     ]
    },
    {
     "name": "stdout",
     "output_type": "stream",
     "text": [
      "Rank-12 models:  min obj, 0.67;  max obj, 0.67;  time to fit, 87.1s\n"
     ]
    },
    {
     "name": "stderr",
     "output_type": "stream",
     "text": [
      "                                                                                                                                                      "
     ]
    },
    {
     "name": "stdout",
     "output_type": "stream",
     "text": [
      "Rank-13 models:  min obj, 0.67;  max obj, 0.67;  time to fit, 88.1s\n"
     ]
    },
    {
     "name": "stderr",
     "output_type": "stream",
     "text": [
      "                                                                                                                                                      "
     ]
    },
    {
     "name": "stdout",
     "output_type": "stream",
     "text": [
      "Rank-14 models:  min obj, 0.67;  max obj, 0.67;  time to fit, 88.9s\n"
     ]
    },
    {
     "name": "stderr",
     "output_type": "stream",
     "text": [
      "                                                                                                                                                      "
     ]
    },
    {
     "name": "stdout",
     "output_type": "stream",
     "text": [
      "Rank-15 models:  min obj, 0.67;  max obj, 0.67;  time to fit, 90.5s\n"
     ]
    },
    {
     "name": "stderr",
     "output_type": "stream",
     "text": [
      "                                                                                                                                                      "
     ]
    },
    {
     "name": "stdout",
     "output_type": "stream",
     "text": [
      "Rank-16 models:  min obj, 0.67;  max obj, 0.67;  time to fit, 90.9s\n"
     ]
    },
    {
     "name": "stderr",
     "output_type": "stream",
     "text": [
      "                                                                                                                                                      "
     ]
    },
    {
     "name": "stdout",
     "output_type": "stream",
     "text": [
      "Rank-17 models:  min obj, 0.67;  max obj, 0.67;  time to fit, 92.5s\n"
     ]
    },
    {
     "name": "stderr",
     "output_type": "stream",
     "text": [
      "                                                                                                                                                      "
     ]
    },
    {
     "name": "stdout",
     "output_type": "stream",
     "text": [
      "Rank-18 models:  min obj, 0.67;  max obj, 0.67;  time to fit, 93.9s\n"
     ]
    },
    {
     "name": "stderr",
     "output_type": "stream",
     "text": [
      "                                                                                                                                                      "
     ]
    },
    {
     "name": "stdout",
     "output_type": "stream",
     "text": [
      "Rank-19 models:  min obj, 0.67;  max obj, 0.67;  time to fit, 94.3s\n"
     ]
    },
    {
     "name": "stderr",
     "output_type": "stream",
     "text": [
      "                                                                                                                                                      "
     ]
    },
    {
     "name": "stdout",
     "output_type": "stream",
     "text": [
      "Rank-1 models:  min obj, 0.66;  max obj, 0.66;  time to fit, 53.5s\n"
     ]
    },
    {
     "name": "stderr",
     "output_type": "stream",
     "text": [
      "                                                                                                                                                      "
     ]
    },
    {
     "name": "stdout",
     "output_type": "stream",
     "text": [
      "Rank-2 models:  min obj, 0.66;  max obj, 0.66;  time to fit, 55.0s\n"
     ]
    },
    {
     "name": "stderr",
     "output_type": "stream",
     "text": [
      "                                                                                                                                                      "
     ]
    },
    {
     "name": "stdout",
     "output_type": "stream",
     "text": [
      "Rank-3 models:  min obj, 0.66;  max obj, 0.66;  time to fit, 55.9s\n"
     ]
    },
    {
     "name": "stderr",
     "output_type": "stream",
     "text": [
      "                                                                                                                                                      "
     ]
    },
    {
     "name": "stdout",
     "output_type": "stream",
     "text": [
      "Rank-4 models:  min obj, 0.66;  max obj, 0.66;  time to fit, 56.4s\n"
     ]
    },
    {
     "name": "stderr",
     "output_type": "stream",
     "text": [
      "                                                                                                                                                      "
     ]
    },
    {
     "name": "stdout",
     "output_type": "stream",
     "text": [
      "Rank-5 models:  min obj, 0.66;  max obj, 0.66;  time to fit, 56.6s\n"
     ]
    },
    {
     "name": "stderr",
     "output_type": "stream",
     "text": [
      "                                                                                                                                                      "
     ]
    },
    {
     "name": "stdout",
     "output_type": "stream",
     "text": [
      "Rank-6 models:  min obj, 0.66;  max obj, 0.66;  time to fit, 57.5s\n"
     ]
    },
    {
     "name": "stderr",
     "output_type": "stream",
     "text": [
      "                                                                                                                                                      "
     ]
    },
    {
     "name": "stdout",
     "output_type": "stream",
     "text": [
      "Rank-7 models:  min obj, 0.66;  max obj, 0.66;  time to fit, 60.2s\n"
     ]
    },
    {
     "name": "stderr",
     "output_type": "stream",
     "text": [
      "                                                                                                                                                      "
     ]
    },
    {
     "name": "stdout",
     "output_type": "stream",
     "text": [
      "Rank-8 models:  min obj, 0.66;  max obj, 0.66;  time to fit, 61.3s\n"
     ]
    },
    {
     "name": "stderr",
     "output_type": "stream",
     "text": [
      "                                                                                                                                                      "
     ]
    },
    {
     "name": "stdout",
     "output_type": "stream",
     "text": [
      "Rank-9 models:  min obj, 0.66;  max obj, 0.66;  time to fit, 62.2s\n"
     ]
    },
    {
     "name": "stderr",
     "output_type": "stream",
     "text": [
      "                                                                                                                                                      "
     ]
    },
    {
     "name": "stdout",
     "output_type": "stream",
     "text": [
      "Rank-10 models:  min obj, 0.66;  max obj, 0.66;  time to fit, 63.4s\n"
     ]
    },
    {
     "name": "stderr",
     "output_type": "stream",
     "text": [
      "                                                                                                                                                      "
     ]
    },
    {
     "name": "stdout",
     "output_type": "stream",
     "text": [
      "Rank-11 models:  min obj, 0.66;  max obj, 0.66;  time to fit, 64.3s\n"
     ]
    },
    {
     "name": "stderr",
     "output_type": "stream",
     "text": [
      "                                                                                                                                                      "
     ]
    },
    {
     "name": "stdout",
     "output_type": "stream",
     "text": [
      "Rank-12 models:  min obj, 0.66;  max obj, 0.66;  time to fit, 66.4s\n"
     ]
    },
    {
     "name": "stderr",
     "output_type": "stream",
     "text": [
      "                                                                                                                                                      "
     ]
    },
    {
     "name": "stdout",
     "output_type": "stream",
     "text": [
      "Rank-13 models:  min obj, 0.65;  max obj, 0.65;  time to fit, 68.3s\n"
     ]
    },
    {
     "name": "stderr",
     "output_type": "stream",
     "text": [
      "                                                                                                                                                      "
     ]
    },
    {
     "name": "stdout",
     "output_type": "stream",
     "text": [
      "Rank-14 models:  min obj, 0.65;  max obj, 0.66;  time to fit, 68.3s\n"
     ]
    },
    {
     "name": "stderr",
     "output_type": "stream",
     "text": [
      "                                                                                                                                                      "
     ]
    },
    {
     "name": "stdout",
     "output_type": "stream",
     "text": [
      "Rank-15 models:  min obj, 0.65;  max obj, 0.66;  time to fit, 69.3s\n"
     ]
    },
    {
     "name": "stderr",
     "output_type": "stream",
     "text": [
      "                                                                                                                                                      "
     ]
    },
    {
     "name": "stdout",
     "output_type": "stream",
     "text": [
      "Rank-16 models:  min obj, 0.65;  max obj, 0.65;  time to fit, 70.5s\n"
     ]
    },
    {
     "name": "stderr",
     "output_type": "stream",
     "text": [
      "                                                                                                                                                      "
     ]
    },
    {
     "name": "stdout",
     "output_type": "stream",
     "text": [
      "Rank-17 models:  min obj, 0.65;  max obj, 0.65;  time to fit, 73.7s\n"
     ]
    },
    {
     "name": "stderr",
     "output_type": "stream",
     "text": [
      "                                                                                                                                                      "
     ]
    },
    {
     "name": "stdout",
     "output_type": "stream",
     "text": [
      "Rank-18 models:  min obj, 0.65;  max obj, 0.65;  time to fit, 74.8s\n"
     ]
    },
    {
     "name": "stderr",
     "output_type": "stream",
     "text": [
      "                                                                                                                                                      "
     ]
    },
    {
     "name": "stdout",
     "output_type": "stream",
     "text": [
      "Rank-19 models:  min obj, 0.65;  max obj, 0.65;  time to fit, 76.2s\n"
     ]
    },
    {
     "name": "stderr",
     "output_type": "stream",
     "text": [
      "\r"
     ]
    },
    {
     "data": {
      "image/png": "[encoded data removed]",
      "text/plain": [
       "<Figure size 432x288 with 1 Axes>"
      ]
     },
     "metadata": {
      "needs_background": "light"
     },
     "output_type": "display_data"
    },
    {
     "data": {
      "image/png": "[encoded data removed]",
      "text/plain": [
       "<Figure size 432x288 with 1 Axes>"
      ]
     },
     "metadata": {
      "needs_background": "light"
     },
     "output_type": "display_data"
    }
   ],
   "source": [
    "%time \n",
    "\n",
    "# Make dataset.\n",
    "\n",
    "# Fit ensembles of tensor decompositions.\n",
    "\n",
    "num_ranks = 30\n",
    "\n",
    "methods = (\n",
    "\n",
    "  'cp_als',    # fits unconstrained tensor decomposition.\n",
    "\n",
    "  'ncp_bcd',   # fits nonnegative tensor decomposition.\n",
    "\n",
    "  'ncp_hals',  # fits nonnegative tensor decomposition.\n",
    "\n",
    ")\n",
    "\n",
    "ensembles = {}\n",
    "\n",
    "\"\"\"\n",
    "    fit_option arguments:\n",
    "    \n",
    "        tol : float, optional (default ``tol=1E-5``)\n",
    "        Stopping tolerance for reconstruction error.\n",
    "\n",
    "        max_iter : integer, optional (default ``max_iter = 500``)\n",
    "        Maximum number of iterations to perform before exiting.\n",
    "    \n",
    "        min_iter : integer, optional (default ``min_iter = 1``)\n",
    "        Minimum number of iterations to perform before exiting.\n",
    "\n",
    "        max_time : integer, optional (default ``max_time = np.inf``)\n",
    "        Maximum computational time before exiting.\n",
    "\n",
    "        verbose : bool ``{'True', 'False'}``, optional (default ``verbose=True``)\n",
    "        Display progress.\n",
    "\"\"\"\n",
    "\n",
    "for m in methods:\n",
    "\n",
    "    ensembles[m] = tt.Ensemble(fit_method=m, fit_options=dict(tol=1e-3)) # tolerance: percent error threshold to terminate\n",
    "\n",
    "    ensembles[m].fit(X, ranks=range(1, num_ranks), replicates=3)\n",
    "\n",
    "# Plotting options for the unconstrained and nonnegative models.\n",
    "\n",
    "plot_options = {\n",
    "\n",
    "  'cp_als': {\n",
    "\n",
    "    'line_kw': {\n",
    "\n",
    "      'color': 'black',\n",
    "      'label': 'cp_als',\n",
    "\n",
    "    },\n",
    "\n",
    "    'scatter_kw': {\n",
    "\n",
    "      'color': 'black',\n",
    "\n",
    "    },\n",
    "  },\n",
    "\n",
    "  'ncp_hals': {\n",
    "\n",
    "    'line_kw': {\n",
    "\n",
    "      'color': 'blue',\n",
    "      'alpha': 0.5,\n",
    "      'label': 'ncp_hals',\n",
    "\n",
    "    },\n",
    "\n",
    "    'scatter_kw': {\n",
    "\n",
    "      'color': 'blue',\n",
    "      'alpha': 0.5,\n",
    "\n",
    "    },\n",
    "  },\n",
    "\n",
    "  'ncp_bcd': {\n",
    "\n",
    "    'line_kw': {\n",
    "\n",
    "      'color': 'red',\n",
    "      'alpha': 0.5,\n",
    "      'label': 'ncp_bcd',\n",
    "\n",
    "    },\n",
    "\n",
    "    'scatter_kw': {\n",
    "\n",
    "      'color': 'red',\n",
    "      'alpha': 0.5,\n",
    "\n",
    "    },\n",
    "  },\n",
    "}\n",
    "\n",
    "\n",
    "\n",
    "# Plot similarity and error plots.\n",
    "\n",
    "plt.figure()\n",
    "\n",
    "for m in methods:\n",
    "\n",
    "    tt.plot_objective(ensembles[m], **plot_options[m])\n",
    "\n",
    "plt.legend()\n",
    "\n",
    "\n",
    "\n",
    "plt.figure()\n",
    "\n",
    "for m in methods:\n",
    "\n",
    "    tt.plot_similarity(ensembles[m], **plot_options[m])\n",
    "\n",
    "plt.legend()\n",
    "\n",
    "\n",
    "\n",
    "plt.show()"
   ]
  },
  {
   "cell_type": "code",
   "execution_count": 57,
   "metadata": {},
   "outputs": [
    {
     "data": {
      "text/plain": [
       "(50, 244510, 21)"
      ]
     },
     "execution_count": 57,
     "metadata": {},
     "output_type": "execute_result"
    }
   ],
   "source": [
    "V.factors[time_factor][:,component]"
   ]
  },
  {
   "cell_type": "code",
   "execution_count": null,
   "metadata": {},
   "outputs": [],
   "source": [
    "\n",
    "# container to store data relevant to the 3d plot\n",
    "s_space_dict = {}\n",
    "s_space_dict['line_cmaps'] = ['autumn','winter']\n",
    "\n",
    "# determine alpha for each trial (encoding time block)\n",
    "trial_group_alphas = np.linspace(0.3, 1, num_avg_groups)\n",
    "\n",
    "# loop through conditions\n",
    "for idx_condition, condition in enumerate(conditions):\n",
    "\n",
    "    # set up variables for this condition\n",
    "    s_space_dict[condition] = {} # sub-dict for condition-specific data \n",
    "    n = data_dict[condition]['num_samples'] # number of data points\n",
    "    cmap_lc = s_space_dict['line_cmaps'][idx_condition] # grab this condition's line cmap\n",
    "    \n",
    "    #set x,y,z, time data\n",
    "    x = data_dict[condition]['Xt'][:,0]\n",
    "    y = data_dict[condition]['Xt'][:,1]\n",
    "    z = data_dict[condition]['Xt'][:,2]\n",
    "    svec = np.arange(0,n) # sample vector; important for encoding color as time\n",
    "    # USER DEFINE: which dimension to encode color; can be x, y, z, svec\n",
    "    color_encode = svec \n",
    "    \n",
    "    # update x,y,z limits based on this condition's data\n",
    "    if idx_condition == 0:\n",
    "        xlim = [np.min(x), np.max(x)]; ylim = [np.min(y), np.max(y)]; zlim = [np.min(z), np.max(z)]\n",
    "    else:\n",
    "        xlim = update_lims([np.min(x), np.max(x)], xlim); \n",
    "        ylim = update_lims([np.min(y), np.max(y)], ylim); \n",
    "        zlim = update_lims([np.min(z), np.max(z)], zlim);\n",
    "    \n",
    "    ### Create line segment objects for ALL TRIAL-AVGED DATA ###\n",
    "    s_space_dict[condition]['line_collect'] = make_line_collection(x, y, z, color_encode, cmap_lc)\n",
    "    \n",
    "    ### Create line segment objects for TRIAL-BLOCKED/GROUPED DATA ###\n",
    "    s_space_dict[condition]['line_collect_trial'] = {}\n",
    "    for idx, trial in enumerate(data_dict[condition]['Xt_trial']):\n",
    "        \n",
    "        # make the line segment object for this trial group\n",
    "        s_space_dict[condition]['line_collect_trial'][idx] = make_line_collection(trial[:,0], trial[:,1], trial[:,2], \n",
    "                                                                                  color_encode, \n",
    "                                                                                  cmap_lc, \n",
    "                                                                                  trial = True, \n",
    "                                                                                  alpha = trial_group_alphas[idx])\n",
    "\n",
    "        # update x,y,z limits based on this \"trial's\" data\n",
    "        xlim = update_lims([np.min(trial[:,0]), np.max(trial[:,0])], xlim); \n",
    "        ylim = update_lims([np.min(trial[:,1]), np.max(trial[:,1])], ylim);\n",
    "        zlim = update_lims([np.min(trial[:,2]), np.max(trial[:,2])], zlim);\n",
    "        \n",
    "# create plot and set attributes\n",
    "fig = plt.figure(figsize = (9,7))\n",
    "ax = fig.gca(projection='3d')\n",
    "ax.set_xlim(xlim); ax.set_ylim(ylim); ax.set_zlim(zlim)\n",
    "plt.title('PCA State Space')\n",
    "ax.set_xlabel('PC0', fontsize = 20); ax.set_ylabel('PC1', fontsize = 20); ax.set_zlabel('PC2', fontsize = 20);\n",
    "\n",
    "# plot the line segments\n",
    "for condition in conditions:\n",
    "    \n",
    "    # for all trial-avged data\n",
    "    ax.add_collection3d(s_space_dict[condition]['line_collect'], zs=z, zdir='z')\n",
    "\n",
    "    # for trial group data\n",
    "    for trial_lc in s_space_dict[condition]['line_collect_trial'].values():\n",
    "        \n",
    "        ax.add_collection3d(trial_lc, zs=z, zdir='z')\n",
    "        \n",
    "ax.legend(['All Trial Avg','Trial 1-10 Avg','Trial 11-20 Avg',\n",
    "           'Trial 21-30 Avg','Trial 31-40 Avg','Trial 41-50 Avg']);"
   ]
  }
 ],
 "metadata": {
  "kernelspec": {
   "display_name": "Python 3",
   "language": "python",
   "name": "python3"
  },
  "language_info": {
   "codemirror_mode": {
    "name": "ipython",
    "version": 3
   },
   "file_extension": ".py",
   "mimetype": "text/x-python",
   "name": "python",
   "nbconvert_exporter": "python",
   "pygments_lexer": "ipython3",
   "version": "3.6.10"
  }
 },
 "nbformat": 4,
 "nbformat_minor": 4
}
