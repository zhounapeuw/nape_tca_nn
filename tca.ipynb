{
 "cells": [
  {
   "cell_type": "code",
   "execution_count": null,
   "metadata": {},
   "outputs": [],
   "source": [
    "# load dependencies\n",
    "import h5py\n",
    "import tensortools as tt # toolbox for TCA"
   ]
  },
  {
   "cell_type": "code",
   "execution_count": null,
   "metadata": {},
   "outputs": [],
   "source": [
    "# Make synthetic dataset.\n",
    "condition = 'plus_rewarded'\n",
    "I = len(data_dict[condition]['xarr_flatten_xy'].yx)\n",
    "J, K = data_dims[0], data_dims[1]\n",
    "R = 3 # dimensions/rank\n",
    "# R is number of components\n",
    "\n",
    "X = data_dict[condition]['xarr_flatten_xy'].data\n",
    "#dims are (trial, yx_pix, time)"
   ]
  },
  {
   "cell_type": "code",
   "execution_count": null,
   "metadata": {},
   "outputs": [],
   "source": [
    "# Fit CP tensor decomposition (two times).\n",
    "\n",
    "U = tt.cp_als(X, rank=R, verbose=True) # CP decomposition by classic alternating least squares (ALS).\n",
    "# The `rank` sets the number of components to be computed.\n",
    "# output are factor matrices of the fitted results\n",
    "# objective function is the frbenius norm\n",
    "V = tt.cp_als(X, rank=R, verbose=True)\n",
    "\n",
    "# Compare the low-dimensional factors from the two fits.\n",
    "fig, _, _ = tt.plot_factors(U.factors)\n",
    "tt.plot_factors(V.factors, fig=fig)\n",
    "\n",
    "# Align the two fits and print a similarity score.\n",
    "sim = tt.kruskal_align(U.factors, V.factors, permute_U=True, permute_V=True)\n",
    "print(sim)\n",
    "\n",
    "# Plot the results again to see alignment.\n",
    "fig, ax, po = tt.plot_factors(U.factors)\n",
    "tt.plot_factors(V.factors, fig=fig)\n",
    "\n",
    "# Show plots.\n",
    "plt.show()"
   ]
  },
  {
   "cell_type": "code",
   "execution_count": null,
   "metadata": {},
   "outputs": [],
   "source": [
    "pixel_factor = 1\n",
    "time_factor = 2\n",
    "\n",
    "n_columns = 4\n",
    "\n",
    "plot_img_vectorized_component(n_columns, np.transpose(V.factors[pixel_factor]))"
   ]
  },
  {
   "cell_type": "code",
   "execution_count": null,
   "metadata": {},
   "outputs": [],
   "source": [
    "component = 0\n",
    "\n",
    "tseries = V.factors[time_factor][:,component]\n",
    "plt.figure()\n",
    "plt.plot(trial_tvec, tseries)"
   ]
  }
 ],
 "metadata": {
  "kernelspec": {
   "display_name": "Python 3",
   "language": "python",
   "name": "python3"
  },
  "language_info": {
   "codemirror_mode": {
    "name": "ipython",
    "version": 3
   },
   "file_extension": ".py",
   "mimetype": "text/x-python",
   "name": "python",
   "nbconvert_exporter": "python",
   "pygments_lexer": "ipython3",
   "version": "3.6.10"
  }
 },
 "nbformat": 4,
 "nbformat_minor": 4
}
